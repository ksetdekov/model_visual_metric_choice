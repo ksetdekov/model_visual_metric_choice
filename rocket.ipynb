{
 "cells": [
  {
   "cell_type": "code",
   "execution_count": 21,
   "metadata": {},
   "outputs": [
    {
     "name": "stdout",
     "output_type": "stream",
     "text": [
      "Looking in indexes: https://pypi.org/simple, https://download.pytorch.org/whl/cu116\n",
      "Requirement already satisfied: torch in c:\\users\\ksetd\\pycharmprojects\\model_visual_metric_choice\\venv\\lib\\site-packages (1.13.1)\n",
      "Requirement already satisfied: typing-extensions in c:\\users\\ksetd\\pycharmprojects\\model_visual_metric_choice\\venv\\lib\\site-packages (from torch) (4.4.0)\n"
     ]
    }
   ],
   "source": [
    "!pip3 install torch --extra-index-url https://download.pytorch.org/whl/cu116"
   ]
  },
  {
   "cell_type": "code",
   "execution_count": 22,
   "metadata": {},
   "outputs": [
    {
     "name": "stdout",
     "output_type": "stream",
     "text": [
      "os              : Windows-10-10.0.18363-SP0\n",
      "python          : 3.10.9\n",
      "tsai            : 0.3.4\n",
      "fastai          : 2.7.10\n",
      "fastcore        : 1.5.27\n",
      "sktime          : 0.15.1\n",
      "sklearn         : 1.2.1\n",
      "torch           : 1.13.1+cpu\n",
      "device          : cpu\n",
      "cpu cores       : 6\n",
      "threads per cpu : 2\n",
      "RAM             : 47.94 GB\n",
      "GPU memory      : N/A\n"
     ]
    }
   ],
   "source": [
    "from tsai.basics import *\n",
    "import sktime\n",
    "import sklearn\n",
    "my_setup(sktime, sklearn)"
   ]
  },
  {
   "cell_type": "code",
   "execution_count": 25,
   "metadata": {},
   "outputs": [],
   "source": [
    "from tsai.models.MINIROCKET import *"
   ]
  },
  {
   "cell_type": "code",
   "execution_count": 26,
   "metadata": {},
   "outputs": [
    {
     "ename": "TypeError",
     "evalue": "RidgeClassifierCV.__init__() got an unexpected keyword argument 'normalize'",
     "output_type": "error",
     "traceback": [
      "\u001b[1;31m---------------------------------------------------------------------------\u001b[0m",
      "\u001b[1;31mTypeError\u001b[0m                                 Traceback (most recent call last)",
      "Cell \u001b[1;32mIn[26], line 7\u001b[0m\n\u001b[0;32m      3\u001b[0m X_train, y_train, X_valid, y_valid \u001b[39m=\u001b[39m get_UCR_data(dsid)   \u001b[39m# Download the UCR dataset\u001b[39;00m\n\u001b[0;32m      5\u001b[0m \u001b[39m# Computes MiniRocket features using the original (non-PyTorch) MiniRocket code.\u001b[39;00m\n\u001b[0;32m      6\u001b[0m \u001b[39m# It then sends them to a sklearn's RidgeClassifier (linear classifier).\u001b[39;00m\n\u001b[1;32m----> 7\u001b[0m model \u001b[39m=\u001b[39m MiniRocketClassifier()\n\u001b[0;32m      8\u001b[0m timer\u001b[39m.\u001b[39mstart(\u001b[39mFalse\u001b[39;00m)\n\u001b[0;32m      9\u001b[0m model\u001b[39m.\u001b[39mfit(X_train, y_train)\n",
      "File \u001b[1;32mc:\\Users\\ksetd\\PycharmProjects\\model_visual_metric_choice\\venv\\lib\\site-packages\\tsai\\models\\MINIROCKET.py:39\u001b[0m, in \u001b[0;36mMiniRocketClassifier.__init__\u001b[1;34m(self, num_features, max_dilations_per_kernel, random_state, alphas, normalize_features, memory, verbose, scoring, class_weight, **kwargs)\u001b[0m\n\u001b[0;32m     33\u001b[0m \u001b[39mexcept\u001b[39;00m \u001b[39mImportError\u001b[39;00m: \n\u001b[0;32m     34\u001b[0m     \u001b[39mprint\u001b[39m(\u001b[39m\"\u001b[39m\u001b[39mYou need to install sktime to be able to use MiniRocketClassifier\u001b[39m\u001b[39m\"\u001b[39m) \n\u001b[0;32m     36\u001b[0m \u001b[39mself\u001b[39m\u001b[39m.\u001b[39msteps \u001b[39m=\u001b[39m [(\u001b[39m'\u001b[39m\u001b[39mminirocketmultivariate\u001b[39m\u001b[39m'\u001b[39m, MiniRocketMultivariate(num_kernels\u001b[39m=\u001b[39mnum_features, \n\u001b[0;32m     37\u001b[0m                                                                 max_dilations_per_kernel\u001b[39m=\u001b[39mmax_dilations_per_kernel,\n\u001b[0;32m     38\u001b[0m                                                                 random_state\u001b[39m=\u001b[39mrandom_state)),\n\u001b[1;32m---> 39\u001b[0m               (\u001b[39m'\u001b[39m\u001b[39mridgeclassifiercv\u001b[39m\u001b[39m'\u001b[39m, RidgeClassifierCV(alphas\u001b[39m=\u001b[39malphas, \n\u001b[0;32m     40\u001b[0m                                                       normalize\u001b[39m=\u001b[39mnormalize_features, \n\u001b[0;32m     41\u001b[0m                                                       scoring\u001b[39m=\u001b[39mscoring, \n\u001b[0;32m     42\u001b[0m                                                       class_weight\u001b[39m=\u001b[39mclass_weight, \n\u001b[0;32m     43\u001b[0m                                                       \u001b[39m*\u001b[39m\u001b[39m*\u001b[39mkwargs))]\n\u001b[0;32m     44\u001b[0m store_attr()\n\u001b[0;32m     45\u001b[0m \u001b[39mself\u001b[39m\u001b[39m.\u001b[39m_validate_steps()\n",
      "\u001b[1;31mTypeError\u001b[0m: RidgeClassifierCV.__init__() got an unexpected keyword argument 'normalize'"
     ]
    }
   ],
   "source": [
    "# Univariate classification with sklearn-type API\n",
    "dsid = 'OliveOil'\n",
    "X_train, y_train, X_valid, y_valid = get_UCR_data(dsid)   # Download the UCR dataset\n",
    "\n",
    "# Computes MiniRocket features using the original (non-PyTorch) MiniRocket code.\n",
    "# It then sends them to a sklearn's RidgeClassifier (linear classifier).\n",
    "model = MiniRocketClassifier()\n",
    "timer.start(False)\n",
    "model.fit(X_train, y_train)\n",
    "t = timer.stop()\n",
    "print(f'valid accuracy    : {model.score(X_valid, y_valid):.3%} time: {t}')"
   ]
  },
  {
   "cell_type": "code",
   "execution_count": null,
   "metadata": {},
   "outputs": [],
   "source": []
  }
 ],
 "metadata": {
  "kernelspec": {
   "display_name": "venv",
   "language": "python",
   "name": "python3"
  },
  "language_info": {
   "codemirror_mode": {
    "name": "ipython",
    "version": 3
   },
   "file_extension": ".py",
   "mimetype": "text/x-python",
   "name": "python",
   "nbconvert_exporter": "python",
   "pygments_lexer": "ipython3",
   "version": "3.10.9 (tags/v3.10.9:1dd9be6, Dec  6 2022, 20:01:21) [MSC v.1934 64 bit (AMD64)]"
  },
  "orig_nbformat": 4,
  "vscode": {
   "interpreter": {
    "hash": "0826ecaf6813cc51c78c96de6ddcf6b8b0ac02bc4cdbd9a03b81ece5dce3ddcd"
   }
  }
 },
 "nbformat": 4,
 "nbformat_minor": 2
}
