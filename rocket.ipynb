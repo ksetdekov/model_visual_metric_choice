{
 "cells": [
  {
   "cell_type": "code",
   "execution_count": 21,
   "metadata": {},
   "outputs": [
    {
     "name": "stdout",
     "output_type": "stream",
     "text": [
      "Looking in indexes: https://pypi.org/simple, https://download.pytorch.org/whl/cu116\n",
      "Requirement already satisfied: torch in c:\\users\\ksetd\\pycharmprojects\\model_visual_metric_choice\\venv\\lib\\site-packages (1.13.1)\n",
      "Requirement already satisfied: typing-extensions in c:\\users\\ksetd\\pycharmprojects\\model_visual_metric_choice\\venv\\lib\\site-packages (from torch) (4.4.0)\n"
     ]
    }
   ],
   "source": [
    "!pip3 install torch --extra-index-url https://download.pytorch.org/whl/cu116"
   ]
  },
  {
   "cell_type": "code",
   "execution_count": 22,
   "metadata": {},
   "outputs": [
    {
     "name": "stdout",
     "output_type": "stream",
     "text": [
      "os              : Windows-10-10.0.18363-SP0\n",
      "python          : 3.10.9\n",
      "tsai            : 0.3.4\n",
      "fastai          : 2.7.10\n",
      "fastcore        : 1.5.27\n",
      "sktime          : 0.15.1\n",
      "sklearn         : 1.2.1\n",
      "torch           : 1.13.1+cpu\n",
      "device          : cpu\n",
      "cpu cores       : 6\n",
      "threads per cpu : 2\n",
      "RAM             : 47.94 GB\n",
      "GPU memory      : N/A\n"
     ]
    }
   ],
   "source": [
    "from tsai.basics import *\n",
    "import sktime\n",
    "import sklearn\n",
    "my_setup(sktime, sklearn)"
   ]
  },
  {
   "cell_type": "code",
   "execution_count": 25,
   "metadata": {},
   "outputs": [],
   "source": [
    "from tsai.models.MINIROCKET import *"
   ]
  },
  {
   "cell_type": "code",
   "execution_count": 26,
   "metadata": {},
   "outputs": [],
   "source": [
    "# Univariate classification with sklearn-type API\n",
    "dsid = 'OliveOil'\n",
    "X_train, y_train, X_valid, y_valid = get_UCR_data(dsid)   # Download the UCR dataset\n",
    "\n",
    "# Computes MiniRocket features using the original (non-PyTorch) MiniRocket code.\n",
    "# It then sends them to a sklearn's RidgeClassifier (linear classifier).\n",
    "model = MiniRocketClassifier()\n",
    "timer.start(False)\n",
    "model.fit(X_train, y_train)\n",
    "t = timer.stop()\n",
    "print(f'valid accuracy    : {model.score(X_valid, y_valid):.3%} time: {t}')"
   ]
  },
  {
   "cell_type": "code",
   "execution_count": null,
   "metadata": {},
   "outputs": [],
   "source": []
  }
 ],
 "metadata": {
  "kernelspec": {
   "display_name": "venv",
   "language": "python",
   "name": "python3"
  },
  "language_info": {
   "codemirror_mode": {
    "name": "ipython",
    "version": 3
   },
   "file_extension": ".py",
   "mimetype": "text/x-python",
   "name": "python",
   "nbconvert_exporter": "python",
   "pygments_lexer": "ipython3",
   "version": "3.10.9"
  },
  "orig_nbformat": 4,
  "vscode": {
   "interpreter": {
    "hash": "0826ecaf6813cc51c78c96de6ddcf6b8b0ac02bc4cdbd9a03b81ece5dce3ddcd"
   }
  }
 },
 "nbformat": 4,
 "nbformat_minor": 2
}
